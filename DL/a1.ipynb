{
 "cells": [
  {
   "cell_type": "code",
   "execution_count": null,
   "metadata": {},
   "outputs": [],
   "source": [
    "import pandas as pd\n",
    "df = pd.read_csv('BostonHousing.csv')\n",
    "df.head()\n",
    "y = df['medv']\n",
    "x = df.drop('medv',axis=1)\n",
    "from sklearn.model_selection  import train_test_split\n",
    "xtrain , xtest , ytrain , ytest  = train_test_split(x,y,test_size=0.3)\n",
    "\n",
    "from keras.layers import Dense\n",
    "from keras.models import Sequential\n",
    "model = Sequential()\n",
    "# Adding an input layer\n",
    "model.add(Dense(128 ,input_shape=(13,), activation='relu',name = 'input'))\n",
    "model.add(Dense(64 , activation='relu',name = 'layer1'))\n",
    "model.add(Dense(1 , activation='linear',name = 'output'))\n",
    "\n",
    "model.compile(optimizer='adam',loss ='mse',metrics =['mae'])\n",
    "model.summary()\n",
    "model.fit(xtrain,ytrain,epochs=10)\n",
    "predicitons = model.predict(xtest)\n",
    "import matplotlib.pyplot as plt\n",
    "plt.scatter(predicitons,ytest)\n",
    "output = model.evaluate(xtest,ytest)\n",
    "print(f'this is it', output[0])\n",
    "print(f'this is it', output[1])\n",
    "\n"
   ]
  }
 ],
 "metadata": {
  "language_info": {
   "name": "python"
  }
 },
 "nbformat": 4,
 "nbformat_minor": 2
}
